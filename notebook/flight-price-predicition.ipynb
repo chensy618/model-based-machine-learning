{
 "cells": [
  {
   "cell_type": "markdown",
   "metadata": {},
   "source": [
    "# Flight Price Prediction\n",
    "\n",
    "In this notebook, we will consider the problem of modelling flight price predicition based on the data from Kaggle website."
   ]
  },
  {
   "cell_type": "markdown",
   "metadata": {},
   "source": [
    "## Import Necessary Libraries\n",
    "\n",
    "First, we need to import the libraries that will be used throughout this notebook."
   ]
  },
  {
   "cell_type": "code",
   "execution_count": null,
   "metadata": {},
   "outputs": [],
   "source": [
    "import pandas as pd\n",
    "import numpy as np\n",
    "import seaborn as sns\n",
    "import matplotlib.pyplot as plt\n",
    "import sklearn as skl\n",
    "from sklearn import datasets\n",
    "from sklearn.model_selection import train_test_split\n",
    "from sklearn.linear_model import LinearRegression\n",
    "from sklearn.metrics import mean_squared_error,mean_absolute_error, r2_score\n",
    "from sklearn.preprocessing import PolynomialFeatures\n",
    "from sklearn.feature_selection import mutual_info_regression\n",
    "from sklearn.model_selection import cross_val_score\n",
    "from sklearn.model_selection import KFold\n",
    "from sklearn.model_selection import cross_val_predict\n",
    "from sklearn.model_selection import cross_validate\n"
   ]
  },
  {
   "cell_type": "markdown",
   "metadata": {},
   "source": [
    "## Load Datasets\n",
    "\n",
    "Now, let's load the datasets that we will be using for our analysis.\n"
   ]
  },
  {
   "cell_type": "code",
   "execution_count": null,
   "metadata": {},
   "outputs": [],
   "source": [
    "# Load datasets\n",
    "business_df = pd.read_csv('../datasets/business.csv')\n",
    "economy_df = pd.read_csv('../datasets/economy.csv')\n",
    "clean_dataset = pd.read_csv('../datasets/Clean_Dataset.csv')\n",
    "business_df.head()\n",
    "economy_df.head()\n",
    "clean_dataset.head()"
   ]
  },
  {
   "cell_type": "code",
   "execution_count": null,
   "metadata": {},
   "outputs": [],
   "source": [
    "clean_dataset.shape\n",
    "clean_dataset.describe(include='all')"
   ]
  },
  {
   "cell_type": "code",
   "execution_count": null,
   "metadata": {},
   "outputs": [],
   "source": [
    "clean_dataset.dropna(inplace=True)\n",
    "clean_dataset.shape"
   ]
  },
  {
   "cell_type": "code",
   "execution_count": null,
   "metadata": {},
   "outputs": [],
   "source": [
    "clean_dataset.isnull().sum()"
   ]
  },
  {
   "cell_type": "markdown",
   "metadata": {},
   "source": [
    "\n",
    "# Let's visualize the first few rows of the dataset"
   ]
  },
  {
   "cell_type": "code",
   "execution_count": null,
   "metadata": {},
   "outputs": [],
   "source": [
    "# Plotting histograms for all numeric features to understand distributions\n",
    "clean_dataset.hist(bins=15, figsize=(15, 10), layout=(4, 4))\n",
    "plt.suptitle('Histograms of numeric features')\n",
    "plt.show()"
   ]
  },
  {
   "cell_type": "code",
   "execution_count": null,
   "metadata": {},
   "outputs": [],
   "source": [
    "# For categorical data, we can use count plots to understand the distribution of categories\n",
    "for column in clean_dataset.select_dtypes(include=['object']).columns:\n",
    "    plt.figure(figsize=(10, 4))\n",
    "    sns.countplot(y=column, data=clean_dataset)\n",
    "    plt.title(f'Distribution of {column}')\n",
    "    plt.show()"
   ]
  },
  {
   "cell_type": "code",
   "execution_count": null,
   "metadata": {},
   "outputs": [],
   "source": [
    "# Boxplot for the price column to see its distribution and spot any outliers\n",
    "plt.figure(figsize=(10, 5))\n",
    "sns.boxplot(x=clean_dataset['price'])\n",
    "plt.title('Boxplot of ticket prices')\n",
    "plt.show()"
   ]
  },
  {
   "cell_type": "code",
   "execution_count": null,
   "metadata": {},
   "outputs": [],
   "source": [
    "# A scatter plot to visualize the relationship between two variables, for example, price and duration\n",
    "plt.figure(figsize=(10, 5))\n",
    "sns.scatterplot(x=clean_dataset['duration'], y=clean_dataset['price'])\n",
    "plt.title('Scatter plot of Price vs. Duration')\n",
    "plt.xlabel('Duration')\n",
    "plt.ylabel('Price')\n",
    "plt.show()\n",
    "\n"
   ]
  },
  {
   "cell_type": "code",
   "execution_count": null,
   "metadata": {},
   "outputs": [],
   "source": [
    "# Correlation heatmap to understand the relationships between variables\n",
    "# Select only the numeric columns for correlation\n",
    "numeric_dataset = clean_dataset.select_dtypes(include=[np.number])\n",
    "correlation_matrix = numeric_dataset.corr()"
   ]
  },
  {
   "cell_type": "code",
   "execution_count": null,
   "metadata": {},
   "outputs": [],
   "source": [
    "# Visualize the correlation matrix\n",
    "plt.figure(figsize=(10, 8))\n",
    "sns.heatmap(correlation_matrix, annot=True, cmap='coolwarm')\n",
    "plt.title('Correlation Heatmap')\n",
    "plt.show()"
   ]
  },
  {
   "cell_type": "code",
   "execution_count": null,
   "metadata": {},
   "outputs": [],
   "source": [
    "plt.figure(figsize = (18,5))\n",
    "plt.subplot(1,2,1)\n",
    "sns.histplot(x = 'price', data = clean_dataset, kde = True)\n",
    "plt.subplot(1,2,2)\n",
    "sns.boxplot(x = 'price', data = clean_dataset)"
   ]
  },
  {
   "attachments": {},
   "cell_type": "markdown",
   "metadata": {},
   "source": [
    "# make data transformation"
   ]
  },
  {
   "cell_type": "code",
   "execution_count": null,
   "metadata": {},
   "outputs": [],
   "source": [
    "transformed_dataset = clean_dataset.copy()\n",
    "transformed_dataset['Economy'] = clean_dataset['class'] == 'Economy'\n",
    "transformed_dataset.drop('class', axis=1, inplace=True)"
   ]
  },
  {
   "cell_type": "code",
   "execution_count": null,
   "metadata": {},
   "outputs": [],
   "source": [
    "#transformed_dataset['source_city'].unique()"
   ]
  },
  {
   "cell_type": "code",
   "execution_count": null,
   "metadata": {},
   "outputs": [],
   "source": [
    "city_size = { # this is for year 2011 - https://en.wikipedia.org/wiki/List_of_cities_in_India_by_population\n",
    "    'Delhi': 110,\n",
    "    'Mumbai': 124,\n",
    "    'Bangalore': 84,\n",
    "    'Kolkata': 44,\n",
    "    'Hyderabad': 69,\n",
    "    'Chennai' : 46\n",
    "}\n",
    "transformed_dataset['source_size'] = transformed_dataset['source_city'].replace(city_size)\n",
    "transformed_dataset.drop('source_city', axis=1, inplace=True)\n",
    "transformed_dataset['destination_size'] = transformed_dataset['destination_city'].replace(city_size)\n",
    "transformed_dataset.drop('destination_city', axis=1, inplace=True)"
   ]
  },
  {
   "cell_type": "code",
   "execution_count": null,
   "metadata": {},
   "outputs": [],
   "source": [
    "transformed_dataset = pd.get_dummies(transformed_dataset,columns=['departure_time','arrival_time'])"
   ]
  },
  {
   "cell_type": "code",
   "execution_count": null,
   "metadata": {},
   "outputs": [],
   "source": [
    "stops = {\n",
    "    'zero': 0,\n",
    "    'one': 1,\n",
    "    'two_or_more': 2,\n",
    "}\n",
    "transformed_dataset['stops_num'] = transformed_dataset['stops'].replace(stops)\n",
    "transformed_dataset.drop('stops', axis=1, inplace=True)"
   ]
  },
  {
   "cell_type": "code",
   "execution_count": null,
   "metadata": {},
   "outputs": [],
   "source": [
    "transformed_dataset = pd.get_dummies(transformed_dataset,columns=['airline'])"
   ]
  },
  {
   "cell_type": "code",
   "execution_count": null,
   "metadata": {},
   "outputs": [],
   "source": [
    "transformed_dataset['flight_num'] = pd.factorize(transformed_dataset['flight'])[0]\n",
    "transformed_dataset.drop('flight', axis=1, inplace=True)"
   ]
  },
  {
   "cell_type": "code",
   "execution_count": null,
   "metadata": {},
   "outputs": [],
   "source": [
    "transformed_dataset.head()"
   ]
  },
  {
   "cell_type": "code",
   "execution_count": null,
   "metadata": {},
   "outputs": [],
   "source": [
    "transformed_dataset.describe()"
   ]
  }
 ],
 "metadata": {
  "kernelspec": {
   "display_name": "Python 3",
   "language": "python",
   "name": "python3"
  },
  "language_info": {
   "codemirror_mode": {
    "name": "ipython",
    "version": 3
   },
   "file_extension": ".py",
   "mimetype": "text/x-python",
   "name": "python",
   "nbconvert_exporter": "python",
   "pygments_lexer": "ipython3",
   "version": "3.11.8"
  }
 },
 "nbformat": 4,
 "nbformat_minor": 2
}
